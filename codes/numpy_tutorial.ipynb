{
 "cells": [
  {
   "cell_type": "code",
   "execution_count": 1,
   "metadata": {},
   "outputs": [],
   "source": [
    "import numpy as np"
   ]
  },
  {
   "cell_type": "code",
   "execution_count": 8,
   "metadata": {},
   "outputs": [
    {
     "name": "stdout",
     "output_type": "stream",
     "text": [
      "shape: (5,) size: 5\n"
     ]
    }
   ],
   "source": [
    "# Vectors\n",
    "\n",
    "v = np.array([1,3,5,7,9])\n",
    "\n",
    "print(\"shape:\", v.shape, \"size:\", v.size)"
   ]
  },
  {
   "cell_type": "code",
   "execution_count": 24,
   "metadata": {},
   "outputs": [
    {
     "name": "stdout",
     "output_type": "stream",
     "text": [
      "shape: (2, 3) size: 6\n"
     ]
    }
   ],
   "source": [
    "# Matrix\n",
    "\n",
    "m = np.array([[1,2,3], [3,4,5]])\n",
    "\n",
    "print(\"shape:\", m.shape, \"size:\", m.size)"
   ]
  },
  {
   "cell_type": "code",
   "execution_count": 25,
   "metadata": {},
   "outputs": [
    {
     "name": "stdout",
     "output_type": "stream",
     "text": [
      "[[1 2 3]\n",
      " [3 4 5]]\n"
     ]
    }
   ],
   "source": [
    "print(m)"
   ]
  },
  {
   "cell_type": "code",
   "execution_count": 52,
   "metadata": {},
   "outputs": [
    {
     "name": "stdout",
     "output_type": "stream",
     "text": [
      "shape: (2, 2, 3) size: 12\n"
     ]
    }
   ],
   "source": [
    "# Tensors\n",
    "\n",
    "t = np.array([[[1,2,3],[3,4,5]], [[0,1,2],[2,3,4]]])\n",
    "\n",
    "print(\"shape:\", t.shape, \"size:\", t.size)"
   ]
  },
  {
   "cell_type": "code",
   "execution_count": 53,
   "metadata": {},
   "outputs": [
    {
     "name": "stdout",
     "output_type": "stream",
     "text": [
      "[[[1 2 3]\n",
      "  [3 4 5]]\n",
      "\n",
      " [[0 1 2]\n",
      "  [2 3 4]]]\n"
     ]
    }
   ],
   "source": [
    "print(t)"
   ]
  },
  {
   "cell_type": "code",
   "execution_count": 54,
   "metadata": {},
   "outputs": [
    {
     "name": "stdout",
     "output_type": "stream",
     "text": [
      "shape before: (4,)\n",
      "shape after: (1, 4)\n",
      "shape after: (1, 1, 4)\n"
     ]
    }
   ],
   "source": [
    "# Reshaping\n",
    "\n",
    "v = np.array([1,3,5,7])\n",
    "\n",
    "print(\"shape before:\", v.shape)\n",
    "v = v.reshape((1,4))\n",
    "print(\"shape after:\", v.shape)\n",
    "v = v.reshape(1,1,4)\n",
    "print(\"shape after:\", v.shape)"
   ]
  },
  {
   "cell_type": "code",
   "execution_count": 60,
   "metadata": {},
   "outputs": [
    {
     "name": "stdout",
     "output_type": "stream",
     "text": [
      "[3 4]\n"
     ]
    }
   ],
   "source": [
    "# Slicing\n",
    "\n",
    "v = np.array([[1,3,5,7], [3,4,5,6], [5,6,7,8]])\n",
    "\n",
    "print(v[1,0:2])   # Slicing from second axis"
   ]
  },
  {
   "cell_type": "code",
   "execution_count": 61,
   "metadata": {},
   "outputs": [
    {
     "name": "stdout",
     "output_type": "stream",
     "text": [
      "[[4 5 6]\n",
      " [6 7 8]]\n"
     ]
    }
   ],
   "source": [
    "# Element wise Matrix Operation\n",
    "\n",
    "m = np.array([[1,2,3], [3,4,5]])\n",
    "m = m + 3\n",
    "print(m)"
   ]
  },
  {
   "cell_type": "code",
   "execution_count": 75,
   "metadata": {},
   "outputs": [
    {
     "name": "stdout",
     "output_type": "stream",
     "text": [
      "shape of m: (2, 3)\n",
      "shape of n: (3, 3)\n",
      "\n",
      " Matrix product: \n",
      " [[30  7 11]\n",
      " [52 15 23]]\n",
      "\n",
      " shape: (2, 3)\n"
     ]
    }
   ],
   "source": [
    "# Matrix product\n",
    "\n",
    "m = np.array([[1,2,3], [3,4,5]])\n",
    "print(\"shape of m:\", m.shape)\n",
    "\n",
    "n = np.array([[0,2,1], [3,1,5], [8,1,0]])\n",
    "print(\"shape of n:\", n.shape)\n",
    "\n",
    "p = np.matmul(m,n)\n",
    "print(\"\\n Matrix product: \\n\", p)\n",
    "print(\"\\n shape:\", p.shape)"
   ]
  },
  {
   "cell_type": "code",
   "execution_count": null,
   "metadata": {},
   "outputs": [],
   "source": []
  }
 ],
 "metadata": {
  "kernelspec": {
   "display_name": "Python 3",
   "language": "python",
   "name": "python3"
  },
  "language_info": {
   "codemirror_mode": {
    "name": "ipython",
    "version": 3
   },
   "file_extension": ".py",
   "mimetype": "text/x-python",
   "name": "python",
   "nbconvert_exporter": "python",
   "pygments_lexer": "ipython3",
   "version": "3.6.4"
  }
 },
 "nbformat": 4,
 "nbformat_minor": 2
}
